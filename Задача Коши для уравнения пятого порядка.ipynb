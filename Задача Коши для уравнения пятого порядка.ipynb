{
 "cells": [
  {
   "cell_type": "markdown",
   "metadata": {},
   "source": [
    "# Задача Коши\n",
    "\n",
    "## Выполнила Леонова Анна Георгиевна\n",
    "Требуется найти решение дифференциального уравнения\n",
    "$$ y'''''+15y''''+90y'''+270y''+405y'+243y=0 $$\n",
    "с начальными условиями\n",
    "$$ y(0)=0, y'(0)=3, y''(0)=-9, y'''(0)=-8, y ''''(0)=0$$\n",
    "на отрезке от 0 до 5 численным методом, а также определить точность решения."
   ]
  },
  {
   "cell_type": "code",
   "execution_count": 1,
   "metadata": {},
   "outputs": [],
   "source": [
    "\n",
    "from math import *\n",
    "import matplotlib.pyplot as plt\n",
    "import numpy as np\n",
    "from sympy import *\n",
    "init_printing(use_unicode = False, wrap_line = False, no_global = True)\n"
   ]
  },
  {
   "cell_type": "markdown",
   "metadata": {},
   "source": [
    "## Метод Рунге-Кутты \n",
    "Пусть Y - вектор $Y=(y,y',y'',y''',y'''')$, зависящий от х, и задана функция правой части $f(x,Y)$, возвращающая вектор. Тогда значение Y в каждой точке сетки $x_n$ с выбранным постоянным шагом h можно вычислить по следующим формулам:\n",
    "$$ Y_{n+1} = Y_n + (k_1 + 2k_2 + 2k_3 + k_4)h/6 $$\n",
    "$$ k_1 = f(x_n,Y_n) $$\n",
    "$$ k_2 = f(x_n + h/2, Y_n + hk_1/2) $$\n",
    "$$ k_3 = f(x_n + h/2, Y_n + hk_2/2) $$\n",
    "$$ k_4 = f(x_n + h, Y_n + hk_3) $$"
   ]
  },
  {
   "cell_type": "code",
   "execution_count": 2,
   "metadata": {},
   "outputs": [
    {
     "name": "stdout",
     "output_type": "stream",
     "text": [
      "50001\n",
      "[[ 0.]\n",
      " [ 3.]\n",
      " [-9.]\n",
      " [-8.]\n",
      " [ 0.]]\n"
     ]
    }
   ],
   "source": [
    "#возможные значения шага\n",
    "sh1=0.01\n",
    "sh2=0.001\n",
    "sh3=0.0001\n",
    "\n",
    "#создание сетки: чтобы изменить шаг для всех последующих вычислений, необходимо переназначить его в следующей строчке\n",
    "h=sh3\n",
    "x=np.arange(0,5+h,h)\n",
    "n=x.shape[0]\n",
    "print(n)\n",
    "\n",
    "#начальные условия\n",
    "y_0=np.zeros((5,1))\n",
    "y_0[0][0]=0\n",
    "y_0[1][0]=3\n",
    "y_0[2][0]=-9\n",
    "y_0[3][0]=-8\n",
    "y_0[4][0]=0\n",
    "\n",
    "print(y_0)"
   ]
  },
  {
   "cell_type": "code",
   "execution_count": 3,
   "metadata": {},
   "outputs": [],
   "source": [
    "#Зададим f(x,Y) системой уравнений\n",
    "def F(x,y):\n",
    "    f=np.zeros((5,1))\n",
    "    f[0][0]=y[1][0]\n",
    "    f[1][0]=y[2][0]\n",
    "    f[2][0]=y[3][0]\n",
    "    f[3][0]=y[4][0]\n",
    "    f[4][0]=-243*y[0][0]-405*y[1][0]-270*y[2][0]-90*y[3][0]-15*y[4][0]\n",
    "    return f\n"
   ]
  },
  {
   "cell_type": "code",
   "execution_count": 4,
   "metadata": {},
   "outputs": [],
   "source": [
    "#Создаём массив решения\n",
    "y_mat=np.zeros((5,n))\n",
    "y_mat[0][0]=y_0[0][0]\n",
    "y_mat[1][0]=y_0[1][0]\n",
    "y_mat[2][0]=y_0[2][0]\n",
    "y_mat[3][0]=y_0[3][0]\n",
    "y_mat[4][0]=y_0[4][0]\n",
    "\n",
    "#Решаем и заполняем его\n",
    "for i in range(1,n):\n",
    "    y_prev=np.zeros((5,1))\n",
    "    y_prev[0][0]=y_mat[0][i-1]\n",
    "    y_prev[1][0]=y_mat[1][i-1]\n",
    "    y_prev[2][0]=y_mat[2][i-1]\n",
    "    y_prev[3][0]=y_mat[3][i-1]\n",
    "    y_prev[4][0]=y_mat[4][i-1]\n",
    "    y_curr=np.zeros((5,1))\n",
    "    k1=F((i-1)*h,y_prev)[0]\n",
    "    k2=F(h*(i-0.5),y_prev+0.5*h*k1)[0]\n",
    "    k3=F(h*(i-0.5),y_prev+0.5*h*k2)[0]\n",
    "    k4=F(h*(i),y_prev+h*k3)[0]\n",
    "    y_curr=y_prev+(k1+2*k2+2*k3+k4)*h/6\n",
    "    y_mat[0][i]=y_curr[0][0]\n",
    "    y_mat[1][i]=y_curr[1][0]\n",
    "    y_mat[2][i]=y_curr[2][0]\n",
    "    y_mat[3][i]=y_curr[3][0]\n",
    "    y_mat[4][i]=y_curr[4][0]\n",
    "y_rk=np.zeros((n))\n",
    "for i in range(n):\n",
    "    y_rk[i]=y_mat[0][i]\n",
    "    \n"
   ]
  },
  {
   "cell_type": "code",
   "execution_count": 5,
   "metadata": {},
   "outputs": [
    {
     "name": "stdout",
     "output_type": "stream",
     "text": [
      "Функция:\n"
     ]
    },
    {
     "data": {
      "image/png": "[encoded data removed]",
      "text/plain": [
       "<Figure size 432x288 with 1 Axes>"
      ]
     },
     "metadata": {
      "needs_background": "light"
     },
     "output_type": "display_data"
    }
   ],
   "source": [
    "print(\"Функция:\")\n",
    "plt.plot(x,y_rk)\n",
    "plt.grid()\n",
    "plt.show()"
   ]
  },
  {
   "cell_type": "markdown",
   "metadata": {},
   "source": [
    "Как видно из графика, первая производная в нуле не похожа на $tg(y/x)=3$. Необходимо подключить другой метод вычисления. \n",
    "Добавим прогноз по схеме: \n",
    "\n",
    "$$ Y^*_{n+1} = Y_{Ругне-Кутты} $$\n",
    "$$ Y_{n+1} = Y_n + hF(x_{n+1}, Y^*_{n+1}) $$\n",
    "\n",
    "Проверим сначала с одной итерацией коррекции\n",
    "\n"
   ]
  },
  {
   "cell_type": "code",
   "execution_count": 6,
   "metadata": {},
   "outputs": [],
   "source": [
    "#Создаём массив решения\n",
    "y_mat1=np.zeros((5,n))\n",
    "y_mat1[0][0]=y_0[0][0]\n",
    "y_mat1[1][0]=y_0[1][0]\n",
    "y_mat1[2][0]=y_0[2][0]\n",
    "y_mat1[3][0]=y_0[3][0]\n",
    "y_mat1[4][0]=y_0[4][0]\n",
    "\n",
    "#Решаем и заполняем его\n",
    "for i in range(1,n):\n",
    "    y_prev=np.zeros((5,1))\n",
    "    y_prev[0][0]=y_mat1[0][i-1]\n",
    "    y_prev[1][0]=y_mat1[1][i-1]\n",
    "    y_prev[2][0]=y_mat1[2][i-1]\n",
    "    y_prev[3][0]=y_mat1[3][i-1]\n",
    "    y_prev[4][0]=y_mat1[4][i-1]\n",
    "    y_curr=np.zeros((5,1))\n",
    "    k1=F((i-1)*h,y_prev)[0]\n",
    "    k2=F(h*(i-0.5),y_prev+0.5*h*k1)[0]\n",
    "    k3=F(h*(i-0.5),y_prev+0.5*h*k2)[0]\n",
    "    k4=F(h*(i),y_prev+h*k3)[0]\n",
    "    y_curr=y_prev+(k1+2*k2+2*k3+k4)*h/6\n",
    "\n",
    "    #на этом этапе получен прогноз, далее коррекция\n",
    "    \n",
    "    y_curr=y_prev+h*F((i-1),y_curr)\n",
    "    \n",
    "    #завершены итреации коррекции\n",
    "    \n",
    "    y_mat1[0][i]=y_curr[0][0]\n",
    "    y_mat1[1][i]=y_curr[1][0]\n",
    "    y_mat1[2][i]=y_curr[2][0]\n",
    "    y_mat1[3][i]=y_curr[3][0]\n",
    "    y_mat1[4][i]=y_curr[4][0]\n",
    "y_pk=np.zeros((n))\n",
    "for i in range(n):\n",
    "    y_pk[i]=y_mat1[0][i]"
   ]
  },
  {
   "cell_type": "code",
   "execution_count": 7,
   "metadata": {},
   "outputs": [
    {
     "name": "stdout",
     "output_type": "stream",
     "text": [
      "Функция:\n"
     ]
    },
    {
     "data": {
      "image/png": "[encoded data removed]",
      "text/plain": [
       "<Figure size 432x288 with 1 Axes>"
      ]
     },
     "metadata": {
      "needs_background": "light"
     },
     "output_type": "display_data"
    }
   ],
   "source": [
    "print(\"Функция:\")\n",
    "plt.plot(x,y_pk)\n",
    "plt.grid()\n",
    "plt.show()"
   ]
  },
  {
   "cell_type": "markdown",
   "metadata": {},
   "source": [
    "Даже одна итерация коррекции существенно изменила характер функции, при этом, очевидно, первая производная в $x=0$ равна 3. Увеличим итерации коррекции, чтобы посмотреть на поведение точности"
   ]
  },
  {
   "cell_type": "code",
   "execution_count": 8,
   "metadata": {},
   "outputs": [],
   "source": [
    "#Создаём массив решения\n",
    "y_mat2=np.zeros((5,n))\n",
    "y_mat2[0][0]=y_0[0][0]\n",
    "y_mat2[1][0]=y_0[1][0]\n",
    "y_mat2[2][0]=y_0[2][0]\n",
    "y_mat2[3][0]=y_0[3][0]\n",
    "y_mat2[4][0]=y_0[4][0]\n",
    "\n",
    "#Решаем и заполняем его\n",
    "for i in range(1,n):\n",
    "    y_prev=np.zeros((5,1))\n",
    "    y_prev[0][0]=y_mat2[0][i-1]\n",
    "    y_prev[1][0]=y_mat2[1][i-1]\n",
    "    y_prev[2][0]=y_mat2[2][i-1]\n",
    "    y_prev[3][0]=y_mat2[3][i-1]\n",
    "    y_prev[4][0]=y_mat2[4][i-1]\n",
    "    y_curr=np.zeros((5,1))\n",
    "    k1=F((i-1)*h,y_prev)[0]\n",
    "    k2=F(h*(i-0.5),y_prev+0.5*h*k1)[0]\n",
    "    k3=F(h*(i-0.5),y_prev+0.5*h*k2)[0]\n",
    "    k4=F(h*(i),y_prev+h*k3)[0]\n",
    "    y_curr=y_prev+(k1+2*k2+2*k3+k4)*h/6\n",
    "\n",
    "    #на этом этапе получен прогноз, далее коррекция\n",
    "    \n",
    "    y_curr=y_prev+h*F((i-1),y_curr)\n",
    "    y_curr=y_prev+h*F((i-1),y_curr)\n",
    "    \n",
    "    #завершены итреации коррекции\n",
    "    \n",
    "    y_mat2[0][i]=y_curr[0][0]\n",
    "    y_mat2[1][i]=y_curr[1][0]\n",
    "    y_mat2[2][i]=y_curr[2][0]\n",
    "    y_mat2[3][i]=y_curr[3][0]\n",
    "    y_mat2[4][i]=y_curr[4][0]\n",
    "y_pk2=np.zeros((n))\n",
    "y_delta=np.zeros((n))\n",
    "for i in range(n):\n",
    "    y_pk2[i]=y_mat2[0][i]\n",
    "    y_delta[i]=y_pk2[i]-y_pk[i]"
   ]
  },
  {
   "cell_type": "code",
   "execution_count": 9,
   "metadata": {},
   "outputs": [
    {
     "name": "stdout",
     "output_type": "stream",
     "text": [
      "Функция:\n"
     ]
    },
    {
     "data": {
      "image/png": "[encoded data removed]",
      "text/plain": [
       "<Figure size 432x288 with 1 Axes>"
      ]
     },
     "metadata": {
      "needs_background": "light"
     },
     "output_type": "display_data"
    }
   ],
   "source": [
    "print(\"Функция:\")\n",
    "plt.plot(x,y_pk2)\n",
    "plt.grid()\n",
    "plt.show()"
   ]
  },
  {
   "cell_type": "code",
   "execution_count": 11,
   "metadata": {},
   "outputs": [
    {
     "name": "stdout",
     "output_type": "stream",
     "text": [
      "Разница между решениями с одной и двумя итерациями коррекции:\n"
     ]
    },
    {
     "data": {
      "image/png": "[encoded data removed]",
      "text/plain": [
       "<Figure size 432x288 with 1 Axes>"
      ]
     },
     "metadata": {
      "needs_background": "light"
     },
     "output_type": "display_data"
    },
    {
     "name": "stdout",
     "output_type": "stream",
     "text": [
      "0.00038157637911256925\n"
     ]
    }
   ],
   "source": [
    "print(\"Разница между решениями с одной и двумя итерациями коррекции:\")\n",
    "plt.plot(x,y_delta)\n",
    "plt.grid()\n",
    "plt.show()\n",
    "\n",
    "max_delta = y_delta[0]\n",
    "for i in range(1,n):\n",
    "    if(y_delta[i]>abs(max_delta)):\n",
    "        max_delta=abs(y_delta[i])\n",
    "print(max_delta)"
   ]
  },
  {
   "cell_type": "markdown",
   "metadata": {},
   "source": [
    "Максимальное значение разницы по модулю не превышает 0,04 для шага 0,01, и 0,004 для шага 0,001, и 0,0004 для шага 0,0001. Увеличим итерации коррекции."
   ]
  },
  {
   "cell_type": "code",
   "execution_count": 12,
   "metadata": {},
   "outputs": [],
   "source": [
    "#Создаём массив решения\n",
    "y_mat3=np.zeros((5,n))\n",
    "y_mat3[0][0]=y_0[0][0]\n",
    "y_mat3[1][0]=y_0[1][0]\n",
    "y_mat3[2][0]=y_0[2][0]\n",
    "y_mat3[3][0]=y_0[3][0]\n",
    "y_mat3[4][0]=y_0[4][0]\n",
    "\n",
    "#Решаем и заполняем его\n",
    "for i in range(1,n):\n",
    "    y_prev=np.zeros((5,1))\n",
    "    y_prev[0][0]=y_mat3[0][i-1]\n",
    "    y_prev[1][0]=y_mat3[1][i-1]\n",
    "    y_prev[2][0]=y_mat3[2][i-1]\n",
    "    y_prev[3][0]=y_mat3[3][i-1]\n",
    "    y_prev[4][0]=y_mat3[4][i-1]\n",
    "    y_curr=np.zeros((5,1))\n",
    "    k1=F((i-1)*h,y_prev)[0]\n",
    "    k2=F(h*(i-0.5),y_prev+0.5*h*k1)[0]\n",
    "    k3=F(h*(i-0.5),y_prev+0.5*h*k2)[0]\n",
    "    k4=F(h*(i),y_prev+h*k3)[0]\n",
    "    y_curr=y_prev+(k1+2*k2+2*k3+k4)*h/6\n",
    "\n",
    "    #на этом этапе получен прогноз, далее коррекция\n",
    "    \n",
    "    y_curr=y_prev+h*F((i-1),y_curr)\n",
    "    y_curr=y_prev+h*F((i-1),y_curr)\n",
    "    y_curr=y_prev+h*F((i-1),y_curr)\n",
    "    \n",
    "    #завершены итреации коррекции\n",
    "    \n",
    "    y_mat3[0][i]=y_curr[0][0]\n",
    "    y_mat3[1][i]=y_curr[1][0]\n",
    "    y_mat3[2][i]=y_curr[2][0]\n",
    "    y_mat3[3][i]=y_curr[3][0]\n",
    "    y_mat3[4][i]=y_curr[4][0]\n",
    "y_pk3=np.zeros((n))\n",
    "y_delta1=np.zeros((n))\n",
    "for i in range(n):\n",
    "    y_pk3[i]=y_mat2[0][i]\n",
    "    y_delta1[i]=y_pk3[i]-y_pk2[i]"
   ]
  },
  {
   "cell_type": "code",
   "execution_count": 13,
   "metadata": {},
   "outputs": [
    {
     "name": "stdout",
     "output_type": "stream",
     "text": [
      "Функция:\n"
     ]
    },
    {
     "data": {
      "image/png": "[encoded data removed]",
      "text/plain": [
       "<Figure size 432x288 with 1 Axes>"
      ]
     },
     "metadata": {
      "needs_background": "light"
     },
     "output_type": "display_data"
    }
   ],
   "source": [
    "print(\"Функция:\")\n",
    "plt.plot(x,y_pk3)\n",
    "plt.grid()\n",
    "plt.show()"
   ]
  },
  {
   "cell_type": "code",
   "execution_count": 14,
   "metadata": {},
   "outputs": [
    {
     "name": "stdout",
     "output_type": "stream",
     "text": [
      "Разница между решениями с двумя и тремя итерациями проверки:\n"
     ]
    },
    {
     "data": {
      "image/png": "[encoded data removed]",
      "text/plain": [
       "<Figure size 432x288 with 1 Axes>"
      ]
     },
     "metadata": {
      "needs_background": "light"
     },
     "output_type": "display_data"
    }
   ],
   "source": [
    "print(\"Разница между решениями с двумя и тремя итерациями проверки:\")\n",
    "plt.plot(x,y_delta1)\n",
    "plt.grid()\n",
    "plt.show()"
   ]
  },
  {
   "cell_type": "markdown",
   "metadata": {},
   "source": [
    "Максимум точности достигнут на второй итерации и укладывается в рамки 4h для нескольких значений h. Если при постановке задачи задана конкретная точность $\\epsilon$, то необходимо подобрать шаг таким образом, чтобы $|4h|<\\epsilon$. "
   ]
  },
  {
   "cell_type": "code",
   "execution_count": null,
   "metadata": {},
   "outputs": [],
   "source": []
  }
 ],
 "metadata": {
  "kernelspec": {
   "display_name": "Python 3",
   "language": "python",
   "name": "python3"
  },
  "language_info": {
   "codemirror_mode": {
    "name": "ipython",
    "version": 3
   },
   "file_extension": ".py",
   "mimetype": "text/x-python",
   "name": "python",
   "nbconvert_exporter": "python",
   "pygments_lexer": "ipython3",
   "version": "3.7.3"
  }
 },
 "nbformat": 4,
 "nbformat_minor": 2
}

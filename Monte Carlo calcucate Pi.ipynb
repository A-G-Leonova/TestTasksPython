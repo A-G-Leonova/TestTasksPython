{
 "cells": [
  {
   "cell_type": "code",
   "execution_count": 2,
   "metadata": {},
   "outputs": [
    {
     "name": "stdout",
     "output_type": "stream",
     "text": [
      "0.9477252942617862\n"
     ]
    }
   ],
   "source": [
    "import random\n",
    "\n",
    "u=random.uniform(0,2)\n",
    "print(u)"
   ]
  },
  {
   "cell_type": "code",
   "execution_count": 5,
   "metadata": {},
   "outputs": [
    {
     "name": "stdout",
     "output_type": "stream",
     "text": [
      "3.143952\n"
     ]
    }
   ],
   "source": [
    "import numpy as np\n",
    "import matplotlib.pyplot as plt\n",
    "from math import *\n",
    "\n",
    "def radius(x,y):\n",
    "    return sqrt(x*x+y*y)\n",
    "\n",
    "a=-1\n",
    "b=1\n",
    "\n",
    "r=1\n",
    "#a<b, r>0\n",
    "\n",
    "x=0\n",
    "y=0\n",
    "\n",
    "N0=1000000\n",
    "N=0 \n",
    "\n",
    "\n",
    "for i in range(N0):\n",
    "    x=random.uniform(a, b)\n",
    "    y=random.uniform(a, b)\n",
    "    if(radius(x,y)<r):\n",
    "        N=N+1\n",
    "\n",
    "pi0=N/N0*4\n",
    "print(pi0)\n",
    "        \n",
    "        \n"
   ]
  },
  {
   "cell_type": "code",
   "execution_count": null,
   "metadata": {},
   "outputs": [],
   "source": []
  }
 ],
 "metadata": {
  "kernelspec": {
   "display_name": "Python 3",
   "language": "python",
   "name": "python3"
  },
  "language_info": {
   "codemirror_mode": {
    "name": "ipython",
    "version": 3
   },
   "file_extension": ".py",
   "mimetype": "text/x-python",
   "name": "python",
   "nbconvert_exporter": "python",
   "pygments_lexer": "ipython3",
   "version": "3.7.3"
  }
 },
 "nbformat": 4,
 "nbformat_minor": 2
}
